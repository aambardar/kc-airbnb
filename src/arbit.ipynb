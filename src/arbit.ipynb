{
 "cells": [
  {
   "cell_type": "code",
   "id": "initial_id",
   "metadata": {
    "collapsed": true,
    "ExecuteTime": {
     "end_time": "2024-09-29T09:43:51.343586Z",
     "start_time": "2024-09-29T09:43:51.088363Z"
    }
   },
   "source": [
    "import pandas as pd\n",
    "\n",
    "d1 = {'xgb': {'trial_number': [0, 1, 2, 3, 4], 'value': [0.5146694801933098, 0.4642128527857551, 0.7033929910299263, 0.39594882635164214, 0.5945882324037679]}}\n"
   ],
   "outputs": [],
   "execution_count": 3
  },
  {
   "metadata": {
    "ExecuteTime": {
     "end_time": "2024-09-29T09:43:52.998373Z",
     "start_time": "2024-09-29T09:43:52.994632Z"
    }
   },
   "cell_type": "code",
   "source": "d1",
   "id": "4ad6af0755049414",
   "outputs": [
    {
     "data": {
      "text/plain": [
       "{'xgb': {'trial_number': [0, 1, 2, 3, 4],\n",
       "  'value': [0.5146694801933098,\n",
       "   0.4642128527857551,\n",
       "   0.7033929910299263,\n",
       "   0.39594882635164214,\n",
       "   0.5945882324037679]}}"
      ]
     },
     "execution_count": 4,
     "metadata": {},
     "output_type": "execute_result"
    }
   ],
   "execution_count": 4
  },
  {
   "metadata": {
    "ExecuteTime": {
     "end_time": "2024-09-29T09:44:31.303517Z",
     "start_time": "2024-09-29T09:44:31.299943Z"
    }
   },
   "cell_type": "code",
   "source": "df1 = pd.DataFrame(d1.get('xgb'))",
   "id": "2ab977e79b778767",
   "outputs": [],
   "execution_count": 7
  },
  {
   "metadata": {
    "ExecuteTime": {
     "end_time": "2024-09-29T09:44:31.930163Z",
     "start_time": "2024-09-29T09:44:31.925311Z"
    }
   },
   "cell_type": "code",
   "source": "df1",
   "id": "3d113303967bce12",
   "outputs": [
    {
     "data": {
      "text/plain": [
       "   trial_number     value\n",
       "0             0  0.514669\n",
       "1             1  0.464213\n",
       "2             2  0.703393\n",
       "3             3  0.395949\n",
       "4             4  0.594588"
      ],
      "text/html": [
       "<div>\n",
       "<style scoped>\n",
       "    .dataframe tbody tr th:only-of-type {\n",
       "        vertical-align: middle;\n",
       "    }\n",
       "\n",
       "    .dataframe tbody tr th {\n",
       "        vertical-align: top;\n",
       "    }\n",
       "\n",
       "    .dataframe thead th {\n",
       "        text-align: right;\n",
       "    }\n",
       "</style>\n",
       "<table border=\"1\" class=\"dataframe\">\n",
       "  <thead>\n",
       "    <tr style=\"text-align: right;\">\n",
       "      <th></th>\n",
       "      <th>trial_number</th>\n",
       "      <th>value</th>\n",
       "    </tr>\n",
       "  </thead>\n",
       "  <tbody>\n",
       "    <tr>\n",
       "      <th>0</th>\n",
       "      <td>0</td>\n",
       "      <td>0.514669</td>\n",
       "    </tr>\n",
       "    <tr>\n",
       "      <th>1</th>\n",
       "      <td>1</td>\n",
       "      <td>0.464213</td>\n",
       "    </tr>\n",
       "    <tr>\n",
       "      <th>2</th>\n",
       "      <td>2</td>\n",
       "      <td>0.703393</td>\n",
       "    </tr>\n",
       "    <tr>\n",
       "      <th>3</th>\n",
       "      <td>3</td>\n",
       "      <td>0.395949</td>\n",
       "    </tr>\n",
       "    <tr>\n",
       "      <th>4</th>\n",
       "      <td>4</td>\n",
       "      <td>0.594588</td>\n",
       "    </tr>\n",
       "  </tbody>\n",
       "</table>\n",
       "</div>"
      ]
     },
     "execution_count": 8,
     "metadata": {},
     "output_type": "execute_result"
    }
   ],
   "execution_count": 8
  },
  {
   "metadata": {},
   "cell_type": "code",
   "outputs": [],
   "execution_count": null,
   "source": "",
   "id": "82ffab836ada3a91"
  }
 ],
 "metadata": {
  "kernelspec": {
   "display_name": "Python 3",
   "language": "python",
   "name": "python3"
  },
  "language_info": {
   "codemirror_mode": {
    "name": "ipython",
    "version": 2
   },
   "file_extension": ".py",
   "mimetype": "text/x-python",
   "name": "python",
   "nbconvert_exporter": "python",
   "pygments_lexer": "ipython2",
   "version": "2.7.6"
  }
 },
 "nbformat": 4,
 "nbformat_minor": 5
}
